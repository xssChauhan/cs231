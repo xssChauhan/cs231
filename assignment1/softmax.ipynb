{
 "cells": [
  {
   "cell_type": "markdown",
   "metadata": {},
   "source": [
    "# Softmax exercise\n",
    "\n",
    "*Complete and hand in this completed worksheet (including its outputs and any supporting code outside of the worksheet) with your assignment submission. For more details see the [assignments page](http://vision.stanford.edu/teaching/cs231n/assignments.html) on the course website.*\n",
    "\n",
    "This exercise is analogous to the SVM exercise. You will:\n",
    "\n",
    "- implement a fully-vectorized **loss function** for the Softmax classifier\n",
    "- implement the fully-vectorized expression for its **analytic gradient**\n",
    "- **check your implementation** with numerical gradient\n",
    "- use a validation set to **tune the learning rate and regularization** strength\n",
    "- **optimize** the loss function with **SGD**\n",
    "- **visualize** the final learned weights\n"
   ]
  },
  {
   "cell_type": "code",
   "execution_count": 1,
   "metadata": {},
   "outputs": [],
   "source": [
    "import random\n",
    "import numpy as np\n",
    "from cs231n.data_utils import load_CIFAR10\n",
    "import matplotlib.pyplot as plt\n",
    "\n",
    "from __future__ import print_function\n",
    "\n",
    "%matplotlib inline\n",
    "plt.rcParams['figure.figsize'] = (10.0, 8.0) # set default size of plots\n",
    "plt.rcParams['image.interpolation'] = 'nearest'\n",
    "plt.rcParams['image.cmap'] = 'gray'\n",
    "\n",
    "# for auto-reloading extenrnal modules\n",
    "# see http://stackoverflow.com/questions/1907993/autoreload-of-modules-in-ipython\n",
    "%load_ext autoreload\n",
    "%autoreload 2"
   ]
  },
  {
   "cell_type": "code",
   "execution_count": 2,
   "metadata": {},
   "outputs": [
    {
     "name": "stdout",
     "output_type": "stream",
     "text": [
      "Train data shape:  (49000, 3073)\n",
      "Train labels shape:  (49000,)\n",
      "Validation data shape:  (1000, 3073)\n",
      "Validation labels shape:  (1000,)\n",
      "Test data shape:  (1000, 3073)\n",
      "Test labels shape:  (1000,)\n",
      "dev data shape:  (500, 3073)\n",
      "dev labels shape:  (500,)\n"
     ]
    }
   ],
   "source": [
    "def get_CIFAR10_data(num_training=49000, num_validation=1000, num_test=1000, num_dev=500):\n",
    "    \"\"\"\n",
    "    Load the CIFAR-10 dataset from disk and perform preprocessing to prepare\n",
    "    it for the linear classifier. These are the same steps as we used for the\n",
    "    SVM, but condensed to a single function.  \n",
    "    \"\"\"\n",
    "    # Load the raw CIFAR-10 data\n",
    "    cifar10_dir = 'cs231n/datasets/cifar-10-batches-py'\n",
    "    X_train, y_train, X_test, y_test = load_CIFAR10(cifar10_dir)\n",
    "    \n",
    "    # subsample the data\n",
    "    mask = list(range(num_training, num_training + num_validation))\n",
    "    X_val = X_train[mask]\n",
    "    y_val = y_train[mask]\n",
    "    mask = list(range(num_training))\n",
    "    X_train = X_train[mask]\n",
    "    y_train = y_train[mask]\n",
    "    mask = list(range(num_test))\n",
    "    X_test = X_test[mask]\n",
    "    y_test = y_test[mask]\n",
    "    mask = np.random.choice(num_training, num_dev, replace=False)\n",
    "    X_dev = X_train[mask]\n",
    "    y_dev = y_train[mask]\n",
    "    \n",
    "    # Preprocessing: reshape the image data into rows\n",
    "    X_train = np.reshape(X_train, (X_train.shape[0], -1))\n",
    "    X_val = np.reshape(X_val, (X_val.shape[0], -1))\n",
    "    X_test = np.reshape(X_test, (X_test.shape[0], -1))\n",
    "    X_dev = np.reshape(X_dev, (X_dev.shape[0], -1))\n",
    "    \n",
    "    # Normalize the data: subtract the mean image\n",
    "    mean_image = np.mean(X_train, axis = 0)\n",
    "    X_train -= mean_image\n",
    "    X_val -= mean_image\n",
    "    X_test -= mean_image\n",
    "    X_dev -= mean_image\n",
    "    \n",
    "    # add bias dimension and transform into columns\n",
    "    X_train = np.hstack([X_train, np.ones((X_train.shape[0], 1))])\n",
    "    X_val = np.hstack([X_val, np.ones((X_val.shape[0], 1))])\n",
    "    X_test = np.hstack([X_test, np.ones((X_test.shape[0], 1))])\n",
    "    X_dev = np.hstack([X_dev, np.ones((X_dev.shape[0], 1))])\n",
    "    \n",
    "    return X_train, y_train, X_val, y_val, X_test, y_test, X_dev, y_dev\n",
    "\n",
    "\n",
    "# Invoke the above function to get our data.\n",
    "X_train, y_train, X_val, y_val, X_test, y_test, X_dev, y_dev = get_CIFAR10_data()\n",
    "print('Train data shape: ', X_train.shape)\n",
    "print('Train labels shape: ', y_train.shape)\n",
    "print('Validation data shape: ', X_val.shape)\n",
    "print('Validation labels shape: ', y_val.shape)\n",
    "print('Test data shape: ', X_test.shape)\n",
    "print('Test labels shape: ', y_test.shape)\n",
    "print('dev data shape: ', X_dev.shape)\n",
    "print('dev labels shape: ', y_dev.shape)"
   ]
  },
  {
   "cell_type": "markdown",
   "metadata": {},
   "source": [
    "## Softmax Classifier\n",
    "\n",
    "Your code for this section will all be written inside **cs231n/classifiers/softmax.py**. \n"
   ]
  },
  {
   "cell_type": "code",
   "execution_count": 3,
   "metadata": {},
   "outputs": [
    {
     "name": "stdout",
     "output_type": "stream",
     "text": [
      "(3073, 10)\n",
      "(500, 3073)\n"
     ]
    }
   ],
   "source": [
    "W = np.random.randn(3073,10)\n",
    "print(W.shape)\n",
    "print(X_dev.shape)"
   ]
  },
  {
   "cell_type": "code",
   "execution_count": 4,
   "metadata": {},
   "outputs": [
    {
     "name": "stdout",
     "output_type": "stream",
     "text": [
      "loss: 2.339956\n",
      "sanity check: 2.302585\n"
     ]
    }
   ],
   "source": [
    "# First implement the naive softmax loss function with nested loops.\n",
    "# Open the file cs231n/classifiers/softmax.py and implement the\n",
    "# softmax_loss_naive function.\n",
    "\n",
    "from cs231n.classifiers.softmax import softmax_loss_naive\n",
    "import time\n",
    "\n",
    "# Generate a random softmax weight matrix and use it to compute the loss.\n",
    "W = np.random.randn(3073, 10) * 0.0001\n",
    "loss, grad = softmax_loss_naive(W, X_dev, y_dev, 0.0)\n",
    "\n",
    "# As a rough sanity check, our loss should be something close to -log(0.1).\n",
    "print('loss: %f' % loss)\n",
    "print('sanity check: %f' % (-np.log(0.1)))"
   ]
  },
  {
   "cell_type": "markdown",
   "metadata": {},
   "source": [
    "## Inline Question 1:\n",
    "Why do we expect our loss to be close to -log(0.1)? Explain briefly.**\n",
    "\n",
    "**Your answer:** *Fill this in*\n"
   ]
  },
  {
   "cell_type": "code",
   "execution_count": 5,
   "metadata": {},
   "outputs": [
    {
     "name": "stdout",
     "output_type": "stream",
     "text": [
      "numerical: -3.048843 analytic: -3.048843, relative error: 4.571090e-09\n",
      "numerical: -0.847375 analytic: -0.847375, relative error: 1.599547e-09\n",
      "numerical: 1.864579 analytic: 1.864578, relative error: 5.039876e-08\n",
      "numerical: 0.247027 analytic: 0.247027, relative error: 7.379902e-08\n",
      "numerical: 0.030153 analytic: 0.030153, relative error: 2.390363e-06\n",
      "numerical: 1.196933 analytic: 1.196933, relative error: 6.369917e-09\n",
      "numerical: 0.785180 analytic: 0.785180, relative error: 2.097813e-08\n",
      "numerical: 0.164790 analytic: 0.164790, relative error: 5.314543e-07\n",
      "numerical: -0.504179 analytic: -0.504179, relative error: 9.192408e-08\n",
      "numerical: 0.658844 analytic: 0.658845, relative error: 1.803647e-08\n",
      "numerical: -0.333960 analytic: -0.333960, relative error: 5.102298e-08\n",
      "numerical: -0.760542 analytic: -0.760542, relative error: 8.181231e-09\n",
      "numerical: -1.737086 analytic: -1.737086, relative error: 4.134123e-09\n",
      "numerical: 3.816343 analytic: 3.816342, relative error: 4.304290e-09\n",
      "numerical: -0.695722 analytic: -0.695722, relative error: 9.252822e-08\n",
      "numerical: -2.926220 analytic: -2.926220, relative error: 1.867190e-09\n",
      "numerical: -0.389020 analytic: -0.389020, relative error: 3.360842e-08\n",
      "numerical: 1.707388 analytic: 1.707388, relative error: 2.122524e-08\n",
      "numerical: 1.010121 analytic: 1.010121, relative error: 4.220249e-08\n",
      "numerical: 2.821634 analytic: 2.821634, relative error: 1.225403e-08\n"
     ]
    }
   ],
   "source": [
    "# Complete the implementation of softmax_loss_naive and implement a (naive)\n",
    "# version of the gradient that uses nested loops.\n",
    "loss, grad = softmax_loss_naive(W, X_dev, y_dev, 0.0)\n",
    "\n",
    "# As we did for the SVM, use numeric gradient checking as a debugging tool.\n",
    "# The numeric gradient should be close to the analytic gradient.\n",
    "from cs231n.gradient_check import grad_check_sparse\n",
    "f = lambda w: softmax_loss_naive(w, X_dev, y_dev, 0.0)[0]\n",
    "grad_numerical = grad_check_sparse(f, W, grad, 10)\n",
    "\n",
    "# similar to SVM case, do another gradient check with regularization\n",
    "loss, grad = softmax_loss_naive(W, X_dev, y_dev, 5e1)\n",
    "f = lambda w: softmax_loss_naive(w, X_dev, y_dev, 5e1)[0]\n",
    "grad_numerical = grad_check_sparse(f, W, grad, 10)"
   ]
  },
  {
   "cell_type": "code",
   "execution_count": 6,
   "metadata": {},
   "outputs": [
    {
     "name": "stdout",
     "output_type": "stream",
     "text": [
      "naive loss: 2.339956e+00 computed in 0.077497s\n",
      "vectorized loss: 2.339956e+00 computed in 0.007678s\n",
      "Loss difference: 0.000000\n",
      "Gradient difference: 0.000000\n"
     ]
    }
   ],
   "source": [
    "# Now that we have a naive implementation of the softmax loss function and its gradient,\n",
    "# implement a vectorized version in softmax_loss_vectorized.\n",
    "# The two versions should compute the same results, but the vectorized version should be\n",
    "# much faster.\n",
    "tic = time.time()\n",
    "loss_naive, grad_naive = softmax_loss_naive(W, X_dev, y_dev, 0.000005)\n",
    "toc = time.time()\n",
    "print('naive loss: %e computed in %fs' % (loss_naive, toc - tic))\n",
    "\n",
    "from cs231n.classifiers.softmax import softmax_loss_vectorized\n",
    "tic = time.time()\n",
    "loss_vectorized, grad_vectorized = softmax_loss_vectorized(W, X_dev, y_dev, 0.000005)\n",
    "toc = time.time()\n",
    "print('vectorized loss: %e computed in %fs' % (loss_vectorized, toc - tic))\n",
    "\n",
    "# As we did for the SVM, we use the Frobenius norm to compare the two versions\n",
    "# of the gradient.\n",
    "grad_difference = np.linalg.norm(grad_naive - grad_vectorized, ord='fro')\n",
    "print('Loss difference: %f' % np.abs(loss_naive - loss_vectorized))\n",
    "print('Gradient difference: %f' % grad_difference)"
   ]
  },
  {
   "cell_type": "code",
   "execution_count": 7,
   "metadata": {},
   "outputs": [
    {
     "name": "stdout",
     "output_type": "stream",
     "text": [
      "[[ -71.64189796  -73.98173469  -69.47391837 ...  -33.86195918\n",
      "   -42.39957143    1.        ]\n",
      " [  23.35810204   41.01826531   54.52608163 ...    7.13804082\n",
      "    29.60042857    1.        ]\n",
      " [ 124.35810204  119.01826531  122.52608163 ...  -39.86195918\n",
      "   -30.39957143    1.        ]\n",
      " ...\n",
      " [ -69.64189796  -62.98173469  -56.47391837 ...   34.13804082\n",
      "     2.60042857    1.        ]\n",
      " [-120.64189796 -131.98173469 -118.47391837 ...   48.13804082\n",
      "    90.60042857    1.        ]\n",
      " [  44.35810204   57.01826531   96.52608163 ...  -47.86195918\n",
      "   -24.39957143    1.        ]]\n"
     ]
    }
   ],
   "source": [
    "print(X_train)"
   ]
  },
  {
   "cell_type": "code",
   "execution_count": 14,
   "metadata": {},
   "outputs": [
    {
     "name": "stdout",
     "output_type": "stream",
     "text": [
      "lr 1.584893e-06 reg 3.162278e+00 train accuracy: 0.240776 val accuracy: 0.244000\n",
      "lr 1.584893e-06 reg 5.011872e+00 train accuracy: 0.250735 val accuracy: 0.241000\n",
      "lr 1.584893e-06 reg 7.943282e+00 train accuracy: 0.255041 val accuracy: 0.238000\n",
      "lr 1.584893e-06 reg 1.258925e+01 train accuracy: 0.249347 val accuracy: 0.245000\n",
      "lr 1.584893e-06 reg 1.995262e+01 train accuracy: 0.244367 val accuracy: 0.241000\n",
      "lr 1.584893e-06 reg 3.162278e+01 train accuracy: 0.244184 val accuracy: 0.268000\n",
      "lr 1.584893e-06 reg 5.011872e+01 train accuracy: 0.243204 val accuracy: 0.256000\n",
      "lr 1.584893e-06 reg 7.943282e+01 train accuracy: 0.250408 val accuracy: 0.241000\n",
      "lr 2.511886e-06 reg 3.162278e+00 train accuracy: 0.268163 val accuracy: 0.277000\n",
      "lr 2.511886e-06 reg 5.011872e+00 train accuracy: 0.272837 val accuracy: 0.273000\n",
      "lr 2.511886e-06 reg 7.943282e+00 train accuracy: 0.260755 val accuracy: 0.275000\n",
      "lr 2.511886e-06 reg 1.258925e+01 train accuracy: 0.267796 val accuracy: 0.239000\n",
      "lr 2.511886e-06 reg 1.995262e+01 train accuracy: 0.264184 val accuracy: 0.303000\n",
      "lr 2.511886e-06 reg 3.162278e+01 train accuracy: 0.277041 val accuracy: 0.282000\n",
      "lr 2.511886e-06 reg 5.011872e+01 train accuracy: 0.266633 val accuracy: 0.278000\n",
      "lr 2.511886e-06 reg 7.943282e+01 train accuracy: 0.267122 val accuracy: 0.242000\n",
      "lr 3.981072e-06 reg 3.162278e+00 train accuracy: 0.285612 val accuracy: 0.292000\n",
      "lr 3.981072e-06 reg 5.011872e+00 train accuracy: 0.284714 val accuracy: 0.286000\n",
      "lr 3.981072e-06 reg 7.943282e+00 train accuracy: 0.293633 val accuracy: 0.315000\n",
      "lr 3.981072e-06 reg 1.258925e+01 train accuracy: 0.290571 val accuracy: 0.298000\n",
      "lr 3.981072e-06 reg 1.995262e+01 train accuracy: 0.284857 val accuracy: 0.285000\n",
      "lr 3.981072e-06 reg 3.162278e+01 train accuracy: 0.285082 val accuracy: 0.274000\n",
      "lr 3.981072e-06 reg 5.011872e+01 train accuracy: 0.280694 val accuracy: 0.287000\n",
      "lr 3.981072e-06 reg 7.943282e+01 train accuracy: 0.287714 val accuracy: 0.290000\n",
      "lr 6.309573e-06 reg 3.162278e+00 train accuracy: 0.286959 val accuracy: 0.279000\n",
      "lr 6.309573e-06 reg 5.011872e+00 train accuracy: 0.301469 val accuracy: 0.314000\n",
      "lr 6.309573e-06 reg 7.943282e+00 train accuracy: 0.294653 val accuracy: 0.305000\n",
      "lr 6.309573e-06 reg 1.258925e+01 train accuracy: 0.305367 val accuracy: 0.312000\n",
      "lr 6.309573e-06 reg 1.995262e+01 train accuracy: 0.298367 val accuracy: 0.316000\n",
      "lr 6.309573e-06 reg 3.162278e+01 train accuracy: 0.293408 val accuracy: 0.302000\n",
      "lr 6.309573e-06 reg 5.011872e+01 train accuracy: 0.292061 val accuracy: 0.295000\n",
      "lr 6.309573e-06 reg 7.943282e+01 train accuracy: 0.308857 val accuracy: 0.305000\n",
      "lr 1.000000e-05 reg 3.162278e+00 train accuracy: 0.233694 val accuracy: 0.239000\n",
      "lr 1.000000e-05 reg 5.011872e+00 train accuracy: 0.298857 val accuracy: 0.306000\n",
      "lr 1.000000e-05 reg 7.943282e+00 train accuracy: 0.259714 val accuracy: 0.269000\n",
      "lr 1.000000e-05 reg 1.258925e+01 train accuracy: 0.248898 val accuracy: 0.249000\n",
      "lr 1.000000e-05 reg 1.995262e+01 train accuracy: 0.281531 val accuracy: 0.289000\n",
      "lr 1.000000e-05 reg 3.162278e+01 train accuracy: 0.264408 val accuracy: 0.256000\n",
      "lr 1.000000e-05 reg 5.011872e+01 train accuracy: 0.271306 val accuracy: 0.295000\n",
      "lr 1.000000e-05 reg 7.943282e+01 train accuracy: 0.298388 val accuracy: 0.300000\n",
      "lr 1.584893e-05 reg 3.162278e+00 train accuracy: 0.262143 val accuracy: 0.260000\n",
      "lr 1.584893e-05 reg 5.011872e+00 train accuracy: 0.225327 val accuracy: 0.224000\n",
      "lr 1.584893e-05 reg 7.943282e+00 train accuracy: 0.242959 val accuracy: 0.248000\n",
      "lr 1.584893e-05 reg 1.258925e+01 train accuracy: 0.290224 val accuracy: 0.324000\n",
      "lr 1.584893e-05 reg 1.995262e+01 train accuracy: 0.213878 val accuracy: 0.224000\n",
      "lr 1.584893e-05 reg 3.162278e+01 train accuracy: 0.268816 val accuracy: 0.265000\n",
      "lr 1.584893e-05 reg 5.011872e+01 train accuracy: 0.295306 val accuracy: 0.303000\n",
      "lr 1.584893e-05 reg 7.943282e+01 train accuracy: 0.230857 val accuracy: 0.222000\n",
      "lr 2.511886e-05 reg 3.162278e+00 train accuracy: 0.252673 val accuracy: 0.248000\n",
      "lr 2.511886e-05 reg 5.011872e+00 train accuracy: 0.277265 val accuracy: 0.274000\n",
      "lr 2.511886e-05 reg 7.943282e+00 train accuracy: 0.279265 val accuracy: 0.263000\n",
      "lr 2.511886e-05 reg 1.258925e+01 train accuracy: 0.258531 val accuracy: 0.274000\n",
      "lr 2.511886e-05 reg 1.995262e+01 train accuracy: 0.198102 val accuracy: 0.204000\n",
      "lr 2.511886e-05 reg 3.162278e+01 train accuracy: 0.280102 val accuracy: 0.288000\n",
      "lr 2.511886e-05 reg 5.011872e+01 train accuracy: 0.230918 val accuracy: 0.243000\n",
      "lr 2.511886e-05 reg 7.943282e+01 train accuracy: 0.256551 val accuracy: 0.272000\n",
      "lr 3.981072e-05 reg 3.162278e+00 train accuracy: 0.244020 val accuracy: 0.275000\n",
      "lr 3.981072e-05 reg 5.011872e+00 train accuracy: 0.272000 val accuracy: 0.281000\n",
      "lr 3.981072e-05 reg 7.943282e+00 train accuracy: 0.254306 val accuracy: 0.249000\n",
      "lr 3.981072e-05 reg 1.258925e+01 train accuracy: 0.215306 val accuracy: 0.232000\n",
      "lr 3.981072e-05 reg 1.995262e+01 train accuracy: 0.268408 val accuracy: 0.285000\n",
      "lr 3.981072e-05 reg 3.162278e+01 train accuracy: 0.231531 val accuracy: 0.237000\n",
      "lr 3.981072e-05 reg 5.011872e+01 train accuracy: 0.266388 val accuracy: 0.284000\n",
      "lr 3.981072e-05 reg 7.943282e+01 train accuracy: 0.230816 val accuracy: 0.235000\n",
      "lr 6.309573e-05 reg 3.162278e+00 train accuracy: 0.258408 val accuracy: 0.258000\n",
      "lr 6.309573e-05 reg 5.011872e+00 train accuracy: 0.251959 val accuracy: 0.241000\n",
      "lr 6.309573e-05 reg 7.943282e+00 train accuracy: 0.250959 val accuracy: 0.247000\n",
      "lr 6.309573e-05 reg 1.258925e+01 train accuracy: 0.234408 val accuracy: 0.240000\n",
      "lr 6.309573e-05 reg 1.995262e+01 train accuracy: 0.269673 val accuracy: 0.273000\n",
      "lr 6.309573e-05 reg 3.162278e+01 train accuracy: 0.245612 val accuracy: 0.241000\n",
      "lr 6.309573e-05 reg 5.011872e+01 train accuracy: 0.310510 val accuracy: 0.326000\n",
      "lr 6.309573e-05 reg 7.943282e+01 train accuracy: 0.264776 val accuracy: 0.263000\n",
      "lr 1.000000e-04 reg 3.162278e+00 train accuracy: 0.281551 val accuracy: 0.299000\n",
      "lr 1.000000e-04 reg 5.011872e+00 train accuracy: 0.219449 val accuracy: 0.216000\n",
      "lr 1.000000e-04 reg 7.943282e+00 train accuracy: 0.248449 val accuracy: 0.215000\n",
      "lr 1.000000e-04 reg 1.258925e+01 train accuracy: 0.270531 val accuracy: 0.264000\n",
      "lr 1.000000e-04 reg 1.995262e+01 train accuracy: 0.233224 val accuracy: 0.238000\n",
      "lr 1.000000e-04 reg 3.162278e+01 train accuracy: 0.276857 val accuracy: 0.292000\n",
      "lr 1.000000e-04 reg 5.011872e+01 train accuracy: 0.276776 val accuracy: 0.277000\n",
      "lr 1.000000e-04 reg 7.943282e+01 train accuracy: 0.253061 val accuracy: 0.286000\n",
      "lr 1.584893e-04 reg 3.162278e+00 train accuracy: 0.282714 val accuracy: 0.270000\n",
      "lr 1.584893e-04 reg 5.011872e+00 train accuracy: 0.256959 val accuracy: 0.259000\n",
      "lr 1.584893e-04 reg 7.943282e+00 train accuracy: 0.247857 val accuracy: 0.242000\n",
      "lr 1.584893e-04 reg 1.258925e+01 train accuracy: 0.313061 val accuracy: 0.318000\n",
      "lr 1.584893e-04 reg 1.995262e+01 train accuracy: 0.269082 val accuracy: 0.271000\n",
      "lr 1.584893e-04 reg 3.162278e+01 train accuracy: 0.217551 val accuracy: 0.215000\n",
      "lr 1.584893e-04 reg 5.011872e+01 train accuracy: 0.267143 val accuracy: 0.256000\n",
      "lr 1.584893e-04 reg 7.943282e+01 train accuracy: 0.217204 val accuracy: 0.225000\n",
      "lr 2.511886e-04 reg 3.162278e+00 train accuracy: 0.228673 val accuracy: 0.213000\n",
      "lr 2.511886e-04 reg 5.011872e+00 train accuracy: 0.252878 val accuracy: 0.275000\n",
      "lr 2.511886e-04 reg 7.943282e+00 train accuracy: 0.245000 val accuracy: 0.243000\n",
      "lr 2.511886e-04 reg 1.258925e+01 train accuracy: 0.248776 val accuracy: 0.251000\n",
      "lr 2.511886e-04 reg 1.995262e+01 train accuracy: 0.249898 val accuracy: 0.259000\n",
      "lr 2.511886e-04 reg 3.162278e+01 train accuracy: 0.233327 val accuracy: 0.224000\n",
      "lr 2.511886e-04 reg 5.011872e+01 train accuracy: 0.278184 val accuracy: 0.292000\n",
      "lr 2.511886e-04 reg 7.943282e+01 train accuracy: 0.205755 val accuracy: 0.206000\n",
      "lr 3.981072e-04 reg 3.162278e+00 train accuracy: 0.247306 val accuracy: 0.235000\n",
      "lr 3.981072e-04 reg 5.011872e+00 train accuracy: 0.265000 val accuracy: 0.276000\n",
      "lr 3.981072e-04 reg 7.943282e+00 train accuracy: 0.251673 val accuracy: 0.249000\n",
      "lr 3.981072e-04 reg 1.258925e+01 train accuracy: 0.256959 val accuracy: 0.252000\n",
      "lr 3.981072e-04 reg 1.995262e+01 train accuracy: 0.211714 val accuracy: 0.210000\n",
      "lr 3.981072e-04 reg 3.162278e+01 train accuracy: 0.253204 val accuracy: 0.247000\n",
      "lr 3.981072e-04 reg 5.011872e+01 train accuracy: 0.231102 val accuracy: 0.233000\n",
      "lr 3.981072e-04 reg 7.943282e+01 train accuracy: 0.254204 val accuracy: 0.249000\n",
      "lr 6.309573e-04 reg 3.162278e+00 train accuracy: 0.255837 val accuracy: 0.257000\n",
      "lr 6.309573e-04 reg 5.011872e+00 train accuracy: 0.257000 val accuracy: 0.254000\n",
      "lr 6.309573e-04 reg 7.943282e+00 train accuracy: 0.268265 val accuracy: 0.255000\n",
      "lr 6.309573e-04 reg 1.258925e+01 train accuracy: 0.190265 val accuracy: 0.214000\n",
      "lr 6.309573e-04 reg 1.995262e+01 train accuracy: 0.228449 val accuracy: 0.246000\n",
      "lr 6.309573e-04 reg 3.162278e+01 train accuracy: 0.220714 val accuracy: 0.225000\n",
      "lr 6.309573e-04 reg 5.011872e+01 train accuracy: 0.199184 val accuracy: 0.221000\n",
      "lr 6.309573e-04 reg 7.943282e+01 train accuracy: 0.207490 val accuracy: 0.198000\n",
      "lr 1.000000e-03 reg 3.162278e+00 train accuracy: 0.250551 val accuracy: 0.250000\n",
      "lr 1.000000e-03 reg 5.011872e+00 train accuracy: 0.237102 val accuracy: 0.231000\n",
      "lr 1.000000e-03 reg 7.943282e+00 train accuracy: 0.252796 val accuracy: 0.273000\n",
      "lr 1.000000e-03 reg 1.258925e+01 train accuracy: 0.219224 val accuracy: 0.251000\n",
      "lr 1.000000e-03 reg 1.995262e+01 train accuracy: 0.233776 val accuracy: 0.221000\n",
      "lr 1.000000e-03 reg 3.162278e+01 train accuracy: 0.199000 val accuracy: 0.199000\n",
      "lr 1.000000e-03 reg 5.011872e+01 train accuracy: 0.180122 val accuracy: 0.200000\n",
      "lr 1.000000e-03 reg 7.943282e+01 train accuracy: 0.175245 val accuracy: 0.184000\n",
      "best validation accuracy achieved during cross-validation: 0.326000\n"
     ]
    }
   ],
   "source": [
    "# Use the validation set to tune hyperparameters (regularization strength and\n",
    "# learning rate). You should experiment with different ranges for the learning\n",
    "# rates and regularization strengths; if you are careful you should be able to\n",
    "# get a classification accuracy of over 0.35 on the validation set.\n",
    "from cs231n.classifiers import Softmax\n",
    "results = {}\n",
    "best_val = -1\n",
    "best_softmax = None\n",
    "learning_rates = [10**(-f) for f in np.arange(3,6,0.2)]\n",
    "regularization_strengths = [10**(f) for f in np.arange(0.5,2,0.2)]\n",
    "\n",
    "################################################################################\n",
    "# TODO:                                                                        #\n",
    "# Use the validation set to set the learning rate and regularization strength. #\n",
    "# This should be identical to the validation that you did for the SVM; save    #\n",
    "# the best trained softmax classifer in best_softmax.                          #\n",
    "################################################################################\n",
    "import itertools\n",
    "\n",
    "combinations = itertools.product(learning_rates,regularization_strengths)\n",
    "\n",
    "for lr, reg in combinations:\n",
    "    softmax = Softmax()\n",
    "    softmax.train(\n",
    "        X_train, y_train,\n",
    "        learning_rate = lr,\n",
    "        reg = reg\n",
    "    )\n",
    "    accuracy_train = np.mean(\n",
    "        softmax.predict(X_train) == y_train\n",
    "    )\n",
    "    accuracy_val= np.mean(\n",
    "        softmax.predict(X_val) == y_val\n",
    "    )\n",
    "    results.update(\n",
    "        {\n",
    "            (lr,reg) : (accuracy_train, accuracy_val)\n",
    "        }\n",
    "    )\n",
    "    if accuracy_val > best_val:\n",
    "        best_val = accuracy_val\n",
    "        best_softmax = softmax\n",
    "        best_params = (lr,reg)\n",
    "pass\n",
    "################################################################################\n",
    "#                              END OF YOUR CODE                                #\n",
    "################################################################################\n",
    "    \n",
    "# Print out results.\n",
    "for lr, reg in sorted(results):\n",
    "    train_accuracy, val_accuracy = results[(lr, reg)]\n",
    "    print('lr %e reg %e train accuracy: %f val accuracy: %f' % (\n",
    "                lr, reg, train_accuracy, val_accuracy))\n",
    "    \n",
    "print('best validation accuracy achieved during cross-validation: %f' % best_val)"
   ]
  },
  {
   "cell_type": "code",
   "execution_count": 17,
   "metadata": {},
   "outputs": [
    {
     "data": {
      "text/plain": [
       "[0.001,\n",
       " 0.000630957344480193,\n",
       " 0.0003981071705534969,\n",
       " 0.0002511886431509577,\n",
       " 0.0001584893192461111,\n",
       " 9.99999999999998e-05,\n",
       " 6.309573444801917e-05,\n",
       " 3.981071705534961e-05,\n",
       " 2.511886431509572e-05,\n",
       " 1.5848931924611077e-05,\n",
       " 9.999999999999958e-06,\n",
       " 6.309573444801904e-06,\n",
       " 3.981071705534953e-06,\n",
       " 2.5118864315095666e-06,\n",
       " 1.5848931924611043e-06]"
      ]
     },
     "execution_count": 17,
     "metadata": {},
     "output_type": "execute_result"
    }
   ],
   "source": [
    "learning_rates"
   ]
  },
  {
   "cell_type": "code",
   "execution_count": 15,
   "metadata": {},
   "outputs": [
    {
     "name": "stdout",
     "output_type": "stream",
     "text": [
      "softmax on raw pixels final test set accuracy: 0.324000\n"
     ]
    }
   ],
   "source": [
    "# evaluate on test set\n",
    "# Evaluate the best softmax on test set\n",
    "y_test_pred = best_softmax.predict(X_test)\n",
    "test_accuracy = np.mean(y_test == y_test_pred)\n",
    "print('softmax on raw pixels final test set accuracy: %f' % (test_accuracy, ))"
   ]
  },
  {
   "cell_type": "code",
   "execution_count": 16,
   "metadata": {},
   "outputs": [
    {
     "data": {
      "image/png": "[encoded data removed]",
      "text/plain": [
       "<matplotlib.figure.Figure at 0x7fe927120a90>"
      ]
     },
     "metadata": {},
     "output_type": "display_data"
    }
   ],
   "source": [
    "# Visualize the learned weights for each class\n",
    "w = best_softmax.W[:-1,:] # strip out the bias\n",
    "w = w.reshape(32, 32, 3, 10)\n",
    "\n",
    "w_min, w_max = np.min(w), np.max(w)\n",
    "\n",
    "classes = ['plane', 'car', 'bird', 'cat', 'deer', 'dog', 'frog', 'horse', 'ship', 'truck']\n",
    "for i in range(10):\n",
    "    plt.subplot(2, 5, i + 1)\n",
    "    \n",
    "    # Rescale the weights to be between 0 and 255\n",
    "    wimg = 255.0 * (w[:, :, :, i].squeeze() - w_min) / (w_max - w_min)\n",
    "    plt.imshow(wimg.astype('uint8'))\n",
    "    plt.axis('off')\n",
    "    plt.title(classes[i])"
   ]
  }
 ],
 "metadata": {
  "kernelspec": {
   "display_name": "Python 2",
   "language": "python",
   "name": "python2"
  },
  "language_info": {
   "codemirror_mode": {
    "name": "ipython",
    "version": 2
   },
   "file_extension": ".py",
   "mimetype": "text/x-python",
   "name": "python",
   "nbconvert_exporter": "python",
   "pygments_lexer": "ipython2",
   "version": "2.7.14"
  }
 },
 "nbformat": 4,
 "nbformat_minor": 1
}
